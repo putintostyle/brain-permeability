{
 "cells": [
  {
   "cell_type": "code",
   "execution_count": 1,
   "metadata": {},
   "outputs": [],
   "source": [
    "import os"
   ]
  },
  {
   "cell_type": "code",
   "execution_count": 2,
   "metadata": {},
   "outputs": [],
   "source": [
    "for dirPath, dirNames, fileNames in os.walk(\"D:\\\\Brain_PR\\\\tmp\\\\CSVD 10409805 PVWM-20190718T141019Z-001\\\\CSVD 10409805 PVWM\\\\S11010\"):\n",
    "#     print dirPath\n",
    "    for f in fileNames:\n",
    "        old_file = os.path.join(dirPath, f)\n",
    "        new_file = os.path.join(dirPath, str(f)[1:-1])\n",
    "        os.rename(old_file, new_file)\n",
    "#         new = str(f)[1:-1]\n",
    "#         print(new)\n",
    "#         os.rename(str(f),str(new))\n",
    "#         print (str(f)[1:-1])"
   ]
  },
  {
   "cell_type": "code",
   "execution_count": null,
   "metadata": {},
   "outputs": [],
   "source": []
  },
  {
   "cell_type": "code",
   "execution_count": 11,
   "metadata": {},
   "outputs": [],
   "source": [
    "os.makedirs('tmp')"
   ]
  },
  {
   "cell_type": "code",
   "execution_count": null,
   "metadata": {},
   "outputs": [],
   "source": []
  }
 ],
 "metadata": {
  "kernelspec": {
   "display_name": "Python 3",
   "language": "python",
   "name": "python3"
  },
  "language_info": {
   "codemirror_mode": {
    "name": "ipython",
    "version": 3
   },
   "file_extension": ".py",
   "mimetype": "text/x-python",
   "name": "python",
   "nbconvert_exporter": "python",
   "pygments_lexer": "ipython3",
   "version": "3.7.3"
  }
 },
 "nbformat": 4,
 "nbformat_minor": 2
}
