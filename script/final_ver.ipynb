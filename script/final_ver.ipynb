{
 "cells": [
  {
   "cell_type": "code",
   "execution_count": 1,
   "metadata": {},
   "outputs": [],
   "source": [
    "import numpy as np\n",
    "import pydicom\n",
    "import matplotlib.pyplot as plt\n",
    "from sklearn import linear_model\n",
    "from matplotlib.ticker import PercentFormatter\n",
    "from matplotlib import colors\n",
    "import matplotlib\n",
    "from scipy.signal import find_peaks\n",
    "import os\n",
    "import pandas as pd"
   ]
  },
  {
   "cell_type": "code",
   "execution_count": null,
   "metadata": {},
   "outputs": [],
   "source": []
  },
  {
   "cell_type": "code",
   "execution_count": 2,
   "metadata": {},
   "outputs": [],
   "source": [
    "global PATH  "
   ]
  },
  {
   "cell_type": "code",
   "execution_count": 3,
   "metadata": {},
   "outputs": [],
   "source": [
    "def refer_to_fat(input_img, cut_1, cut_2, cut_3):\n",
    "    peaks1, _ = find_peaks(input_img[cut_1], height=0)\n",
    "    peaks2, _ = find_peaks(input_img[cut_2], height=0)\n",
    "    peaks3, _ = find_peaks(input_img[cut_3], height=0)\n",
    "    fat_array = [peaks1[0],peaks1[-1], peaks2[0],peaks2[-1],peaks3[0],peaks3[-1]] #store all the peaks\n",
    "    fat_array = [i for i in fat_array if i!=0]\n",
    "    fat_array.remove(max(fat_array))\n",
    "    fat_array.remove(min(fat_array))\n",
    "\n",
    "    input_img = input_img/np.mean(fat_array)\n",
    "#     print(np.mean(fat_array))\n",
    "    return np.array(input_img)"
   ]
  },
  {
   "cell_type": "code",
   "execution_count": 4,
   "metadata": {},
   "outputs": [],
   "source": [
    "def store_region(img_ROI, img_VIF, ROI_center, VIF_center_list, ROI_radius, VIF_radius):\n",
    "    ROI = []\n",
    "    VIF = []\n",
    "    for i in range(0,144):\n",
    "        for j in range(0,144):\n",
    "            if (i-ROI_center[0])**2+(j-ROI_center[1])**2<=ROI_radius**2:\n",
    "                if img_ROI[i][j] == 0:\n",
    "                    tmp = img_ROI[i-3:i+2,j-3:j+2]\n",
    "                    ROI.append(np.mean(tmp)+1e-10)\n",
    "                else:\n",
    "                    ROI.append(img_ROI[i][j])\n",
    "    for VIF_center in VIF_center_list:\n",
    "        for i in range(0,144):\n",
    "            for j in range(0,144):\n",
    "                if (i-VIF_center[0])**2+(j-VIF_center[1])**2<=VIF_radius**2:\n",
    "                    if img_VIF[i][j] == 0:\n",
    "                        tmp = img_VIF[i-3:i+2,j-3:j+2]\n",
    "                        VIF.append(np.mean(tmp)+1e-10)\n",
    "                    else: \n",
    "                        VIF.append(img_VIF[i][j])\n",
    "#     print(VIF)           \n",
    "    return np.array(ROI), np.mean(VIF)"
   ]
  },
  {
   "cell_type": "code",
   "execution_count": 5,
   "metadata": {},
   "outputs": [],
   "source": [
    "def concerntration_in_tissue(start_cut, end_cut, center, radius,cut_1,cut_2,cut_3,ROI):\n",
    "#     print('===ROI===')\n",
    "#     print(ROI)# 1409, 1473\n",
    "    c_t = []\n",
    "    for file_name in range(start_cut, end_cut):\n",
    "        file = pydicom.read_file(PATH+str(file_name))\n",
    "        img = file.pixel_array\n",
    "        img = refer_to_fat(img,cut_1,cut_2,cut_3)\n",
    "        ROI_t = []\n",
    "        \n",
    "        for i in range(0,144):\n",
    "            for j in range(0,144):\n",
    "                if (i-center[0])**2+(j-center[1])**2<=radius**2:\n",
    "                    if img[i][j] <= 1e-3:\n",
    "                        tmp = img[i-3:i+2,j-3:j+2]\n",
    "                        ROI_t.append(np.mean(tmp)+1e-10)\n",
    "                    else:\n",
    "                        ROI_t.append(img[i][j])\n",
    "        ROI_t = np.array(ROI_t)\n",
    "#         print('===ROIt===')\n",
    "#         print(str(file_name))\n",
    "#         print(ROI_t)\n",
    "        \n",
    "        c_t_tmp = np.zeros(len(ROI_t))\n",
    "        for i in range(len(c_t_tmp)):\n",
    "            if (ROI_t[i] == 0) & (ROI[i] == 0):\n",
    "                c_t_tmp[i] = 0\n",
    "            else:\n",
    "                \n",
    "                c_t_tmp[i] = -np.log(ROI_t[i]/ROI[i])\n",
    "#                 if c_t_tmp[i] >= 3:\n",
    "                    \n",
    "#                     print(\"ROI = \", ROI[i])\n",
    "#                     print(\"ROI_t = \", ROI_t[i])\n",
    "#                     print('===================')\n",
    "#                     print(c_t_tmp[i])\n",
    "#                     print('===================')\n",
    "#         print('****************************************************')            \n",
    "        c_t.append(c_t_tmp)\n",
    "    return np.array(c_t)  "
   ]
  },
  {
   "cell_type": "code",
   "execution_count": 6,
   "metadata": {},
   "outputs": [],
   "source": [
    "def concerntration_in_AIF(start_cut, end_cut, center_list, radius, cut_1,cut_2,cut_3,AIF, ROI_size): # 769, 833\n",
    "    c_p = []\n",
    "    for file_name in range(start_cut,end_cut):\n",
    "        file = pydicom.read_file(PATH+str(file_name))\n",
    "        img = file.pixel_array\n",
    "        img = refer_to_fat(img,cut_1,cut_2,cut_3)\n",
    "#         print('DONE_concerntration_in_plassma')\n",
    "       \n",
    "        AIF_t = []\n",
    "        for center in center_list:\n",
    "            for i in range(0,144):\n",
    "                for j in range(0,144):\n",
    "                    if (i-center[0])**2+(j-center[1])**2<=radius**2:\n",
    "                        if img[i][j] == 0:\n",
    "                            tmp = img[i-3:i+2,j-3:j+2]\n",
    "                            AIF_t.append(np.mean(tmp)+1e-10)\n",
    "                        else:\n",
    "                            AIF_t.append(img[i][j])\n",
    "        AIF_t = np.mean(AIF_t)\n",
    "# #         print(VIF_t)\n",
    "        if (AIF_t == 0) & (AIF == 0):\n",
    "            c_p_tmp = 0\n",
    "        else:\n",
    "            c_p_tmp = -np.log(AIF_t/AIF)\n",
    "#         c_p_tmp = np.zeros(len(VIF_t))\n",
    "#         for i in range(len(c_p_tmp)):\n",
    "#             if (VIF_t[i] == 0) & (VIF[i] == 0):\n",
    "#                 c_p_tmp[i] = 0\n",
    "#             elif (VIF_t[i] == 0):\n",
    "#                 c_p_tmp[i] = -1e+5\n",
    "#             elif (VIF[i] == 0):\n",
    "#                 c_p_tmp[i] = 1e+5\n",
    "#             else:\n",
    "#                 c_p_tmp[i] = -np.log(VIF_t[i]/VIF[i])\n",
    "        c_p.append([np.mean(c_p_tmp) for i in range(ROI_size)])\n",
    "    return np.array(c_p)"
   ]
  },
  {
   "cell_type": "code",
   "execution_count": 7,
   "metadata": {},
   "outputs": [],
   "source": [
    "def compute_K_i(ROI, c_p, abbandon_list, y):\n",
    "    Ki = []\n",
    "    for i in range(len(ROI)):\n",
    "        c_p_tmp = c_p[:,i]+1e-10\n",
    "        per_time = 0\n",
    "        y_t = []\n",
    "        x_t = []\n",
    "        for time in range(len(c_p_tmp)):\n",
    "            if time not in abbandon_list: \n",
    "                if time <= 16: \n",
    "                    per_time += c_p_tmp[time]*(4/60)\n",
    "                    y_t.append(y[:,i][time])\n",
    "                    x_t.append(per_time/(c_p_tmp[time]))\n",
    "                elif (time>16)&(time<=35):\n",
    "                    per_time += c_p_tmp[time]*(6/60)\n",
    "                    y_t.append(y[:,i][time])\n",
    "                    x_t.append(per_time/(c_p_tmp[time]))\n",
    "                elif (time>35)&(time<=41):\n",
    "                    per_time += c_p_tmp[time]*(8/60)\n",
    "                    y_t.append(y[:,i][time])\n",
    "                    x_t.append(per_time/(c_p_tmp[time]))\n",
    "                elif (time>41):\n",
    "                    per_time += c_p_tmp[time]\n",
    "                    y_t.append(y[:,i][time])\n",
    "                    x_t.append(per_time/(c_p_tmp[time]))\n",
    "        x_t = np.array(x_t)\n",
    "        y_t = np.array(y_t)\n",
    "\n",
    "        y_t_mean = np.mean(y_t)\n",
    "        y_t_std = np.std(y_t)\n",
    "\n",
    "        drop_index = []\n",
    "        for index in range(len(y_t)):\n",
    "            if abs(y_t[index]-y_t_mean)>y_t_std:\n",
    "                drop_index.append(index)\n",
    "\n",
    "        y_t = np.delete(y_t, drop_index)\n",
    "        x_t = np.delete(x_t, drop_index)\n",
    "#         plt.scatter(x_t, y_t)\n",
    "#         plt.show()\n",
    "        regr = linear_model.LinearRegression()\n",
    "#         print(x_t)\n",
    "#         print(y_t)\n",
    "        regr.fit(x_t.reshape(-1,1), y_t)\n",
    "        Ki.append(round(regr.coef_[0],5))\n",
    "    return np.array(Ki)\n"
   ]
  },
  {
   "cell_type": "code",
   "execution_count": 8,
   "metadata": {},
   "outputs": [],
   "source": [
    "def substract_Ki(Ki, bin_num):\n",
    "#     plt.clf()\n",
    "#     print(Ki)\n",
    "    plot1 = np.histogram(Ki[Ki>=0], bins=bin_num , range = (0, np.max(np.abs(Ki))))\n",
    "    \n",
    "    plot2 = np.histogram(-1*Ki[Ki<0], bins = plot1[1])\n",
    "    \n",
    "#     plt.clf()\n",
    "    bar1 = plot1[0]\n",
    "    bar2 = plot2[0]\n",
    "    print(np.sum(bar1+bar2))\n",
    "    substr_bar = np.zeros(len(bar1))\n",
    "    for i in range(len(bar1)):\n",
    "        if (bar1[i]-bar2[i]) < 0:\n",
    "            substr_bar[i] = 0\n",
    "        else:\n",
    "            substr_bar[i] = bar1[i]-bar2[i]\n",
    "    return [substr_bar/len(Ki), plot1[1],bar1/len(Ki),bar2/len(Ki)]"
   ]
  },
  {
   "cell_type": "code",
   "execution_count": 9,
   "metadata": {},
   "outputs": [],
   "source": [
    "def main_AIF(PATH, start_ROI, start_AIF, center_ROI, center_AIF, radius_ROI, radius_AIF, cut_1, cut_2, cut_3,bins):\n",
    "    init_ROI = pydicom.read_file(PATH+str(start_ROI))\n",
    "    pixel_ROI = init_ROI.pixel_array\n",
    "    \n",
    "    init_AIF = pydicom.read_file(PATH+str(start_AIF))\n",
    "    pixel_AIF = init_AIF.pixel_array\n",
    "    \n",
    "    pixel_AIF = refer_to_fat(pixel_AIF,cut_1, cut_2, cut_3)\n",
    "    pixel_ROI = refer_to_fat(pixel_ROI,cut_1, cut_2, cut_3)\n",
    "    \n",
    "    ROI, AIF = store_region(pixel_ROI, pixel_AIF, center_ROI, center_AIF, radius_ROI, radius_AIF)\n",
    "#     print(ROI)\n",
    "    c_t = concerntration_in_tissue(start_ROI,start_ROI+64,center_ROI,radius_ROI, cut_1, cut_2, cut_3, ROI)\n",
    "#     print((c_t[1]))\n",
    "#     print(len(c_t[0]))\n",
    "    ROI_size = len(ROI)\n",
    "    c_p = concerntration_in_AIF(start_AIF, start_AIF+64,center_AIF,radius_AIF, cut_1, cut_2, cut_3, AIF, ROI_size)\n",
    "#     print(c_p[1])\n",
    "#     print(c_p[2])\n",
    "#     print(len(c_p[0]))\n",
    "    y = (c_t+1e-10)/(c_p+1e-10)\n",
    "#     print('cp_= ',np.max(c_p))\n",
    "#     print('ct_= ',np.max(c_t))\n",
    "#     print(y)\n",
    "#     drop_list = [10,11,13,17,27,34,37,44,46,50,54,56,59]\n",
    "    drop_list = []\n",
    "    Ki = compute_K_i(ROI, c_p, drop_list, y)\n",
    "    print('len(ki)=',len(Ki))\n",
    "    sub = substract_Ki(Ki,bins)\n",
    "    return [sub[0], sub[1], sub[2], sub[3]]"
   ]
  },
  {
   "cell_type": "code",
   "execution_count": null,
   "metadata": {},
   "outputs": [],
   "source": []
  },
  {
   "cell_type": "code",
   "execution_count": 12,
   "metadata": {},
   "outputs": [
    {
     "data": {
      "text/plain": [
       "[[1089.0, 'RF', 56.2, 44.6],\n",
       " [1089.0, 'LF', 87.6, 43.8],\n",
       " [1089.0, 'RP', 53.6, 93.0],\n",
       " [1089.0, 'LP', 89.8, 93.8],\n",
       " [577.0, 'RO', 58.2, 109.6],\n",
       " [577.0, 'LO', 87.2, 113.0],\n",
       " [833.0, 'RCH', 61.6, 57.4],\n",
       " [833.0, 'LCH', 83.8, 57.6],\n",
       " [833.0, 'RBG', 55.8, 67.6],\n",
       " [833.0, 'LBG', 91.2, 69.6],\n",
       " [833.0, 'RTH', 62.8, 77.8],\n",
       " [833.0, 'LTH', 81.4, 77.4],\n",
       " [513.0, 'AIF', 63.2, 63.0],\n",
       " [513.0, 'AIF', 61.8, 61.6],\n",
       " [513.0, 'AIF', 59.4, 60.2]]"
      ]
     },
     "execution_count": 12,
     "metadata": {},
     "output_type": "execute_result"
    }
   ],
   "source": [
    "import xlrd\n",
    "### read path\n",
    "ex_file = xlrd.open_workbook('D:\\\\Brain_PR\\\\tmp\\\\CSVD 10409805 PVWM-20190718T141019Z-001\\\\CSVD 10409805 PVWM\\\\10409805.xlsx')\n",
    "label_loc = ex_file.sheets()[0]\n",
    "nrow = label_loc.nrows\n",
    "info = []\n",
    "for i in range(0,nrow):\n",
    "    info.append([num.value for num in label_loc.row(i)])\n",
    "info"
   ]
  },
  {
   "cell_type": "code",
   "execution_count": 13,
   "metadata": {},
   "outputs": [
    {
     "data": {
      "text/plain": [
       "array([['513.0', 'AIF', '63.2', '63.0'],\n",
       "       ['513.0', 'AIF', '61.8', '61.6'],\n",
       "       ['513.0', 'AIF', '59.4', '60.2']], dtype='<U32')"
      ]
     },
     "execution_count": 13,
     "metadata": {},
     "output_type": "execute_result"
    }
   ],
   "source": [
    "# VIF_label_list = np.array(info[-3::])\n",
    "AIF_label_list = np.array(info[-3::])\n",
    "ROI_label_list = np.array(info[0:-3])\n",
    "AIF_label_list"
   ]
  },
  {
   "cell_type": "code",
   "execution_count": 200,
   "metadata": {},
   "outputs": [
    {
     "data": {
      "text/plain": [
       "array([['1153.0', 'RF', '56.6', '49.4'],\n",
       "       ['1153.0', 'LF', '86.6', '50.0'],\n",
       "       ['1153.0', 'RP', '58.2', '95.6'],\n",
       "       ['1153.0', 'LP', '89.6', '93.8'],\n",
       "       ['577.0', 'RO', '55.6', '112.0'],\n",
       "       ['577.0', 'LO', '84.6', '113.8'],\n",
       "       ['961.0', 'RCH', '63.0', '61.2'],\n",
       "       ['961.0', 'LCH', '83.6', '61.6'],\n",
       "       ['961.0', 'RBG', '56.2', '71.2'],\n",
       "       ['961.0', 'LBG', '90.6', '70.2'],\n",
       "       ['961.0', 'RTH', '65.6', '78.4'],\n",
       "       ['961.0', 'LTH', '83.4', '78.0']], dtype='<U32')"
      ]
     },
     "execution_count": 200,
     "metadata": {},
     "output_type": "execute_result"
    }
   ],
   "source": [
    "ROI_label_list"
   ]
  },
  {
   "cell_type": "code",
   "execution_count": 14,
   "metadata": {},
   "outputs": [],
   "source": [
    "def pertubation(input_list):\n",
    "    return [np.array(input_list.astype('float').astype('int')),\n",
    "                np.array(input_list.astype('float').astype('int'))+np.array([1,0])]\n",
    "#                 np.array(input_list.astype('float').astype('int'))+np.array([2,1])]\n",
    "#                 np.array(input_list.astype('float').astype('int'))+np.array([1,2])]"
   ]
  },
  {
   "cell_type": "code",
   "execution_count": 15,
   "metadata": {},
   "outputs": [
    {
     "data": {
      "text/plain": [
       "array([[63, 63],\n",
       "       [61, 61],\n",
       "       [59, 60]])"
      ]
     },
     "execution_count": 15,
     "metadata": {},
     "output_type": "execute_result"
    }
   ],
   "source": [
    "AIF_center_list = AIF_label_list[::,2::].astype('float').astype('int')\n",
    "AIF_center_list"
   ]
  },
  {
   "cell_type": "code",
   "execution_count": 16,
   "metadata": {},
   "outputs": [
    {
     "data": {
      "text/plain": [
       "array(['87.6', '43.8'], dtype='<U32')"
      ]
     },
     "execution_count": 16,
     "metadata": {},
     "output_type": "execute_result"
    }
   ],
   "source": [
    "ROI_label_list[1][2::]"
   ]
  },
  {
   "cell_type": "markdown",
   "metadata": {},
   "source": [
    "## 計算AIF的"
   ]
  },
  {
   "cell_type": "code",
   "execution_count": null,
   "metadata": {},
   "outputs": [],
   "source": []
  },
  {
   "cell_type": "code",
   "execution_count": null,
   "metadata": {},
   "outputs": [
    {
     "name": "stdout",
     "output_type": "stream",
     "text": [
      "len(ki)= 81\n",
      "81\n",
      "len(ki)= 81\n",
      "81\n",
      "len(ki)= 81\n",
      "81\n",
      "len(ki)= 81\n",
      "81\n",
      "len(ki)= 81\n",
      "81\n",
      "len(ki)= 81\n",
      "81\n"
     ]
    },
    {
     "data": {
      "image/png": "[encoded data removed]",
      "text/plain": [
       "<Figure size 432x288 with 1 Axes>"
      ]
     },
     "metadata": {
      "needs_background": "light"
     },
     "output_type": "display_data"
    },
    {
     "data": {
      "image/png": "[encoded data removed]",
      "text/plain": [
       "<Figure size 432x288 with 1 Axes>"
      ]
     },
     "metadata": {
      "needs_background": "light"
     },
     "output_type": "display_data"
    },
    {
     "name": "stdout",
     "output_type": "stream",
     "text": [
      "len(ki)= 81\n",
      "81\n",
      "len(ki)= 81\n",
      "81\n",
      "len(ki)= 81\n",
      "81\n",
      "len(ki)= 81\n",
      "81\n",
      "len(ki)= 81\n",
      "81\n",
      "len(ki)= 81\n",
      "81\n"
     ]
    },
    {
     "data": {
      "image/png": "[encoded data removed]",
      "text/plain": [
       "<Figure size 432x288 with 1 Axes>"
      ]
     },
     "metadata": {
      "needs_background": "light"
     },
     "output_type": "display_data"
    },
    {
     "data": {
      "image/png": "[encoded data removed]",
      "text/plain": [
       "<Figure size 432x288 with 1 Axes>"
      ]
     },
     "metadata": {
      "needs_background": "light"
     },
     "output_type": "display_data"
    },
    {
     "name": "stdout",
     "output_type": "stream",
     "text": [
      "len(ki)= 81\n",
      "81\n",
      "len(ki)= 81\n",
      "81\n",
      "len(ki)= 81\n",
      "81\n",
      "len(ki)= 81\n",
      "81\n",
      "len(ki)= 81\n",
      "81\n",
      "len(ki)= 81\n",
      "81\n"
     ]
    },
    {
     "data": {
      "image/png": "[encoded data removed]",
      "text/plain": [
       "<Figure size 432x288 with 1 Axes>"
      ]
     },
     "metadata": {
      "needs_background": "light"
     },
     "output_type": "display_data"
    },
    {
     "data": {
      "image/png": "[encoded data removed]",
      "text/plain": [
       "<Figure size 432x288 with 1 Axes>"
      ]
     },
     "metadata": {
      "needs_background": "light"
     },
     "output_type": "display_data"
    },
    {
     "name": "stdout",
     "output_type": "stream",
     "text": [
      "len(ki)= 81\n",
      "81\n",
      "len(ki)= 81\n",
      "81\n",
      "len(ki)= 81\n",
      "81\n",
      "len(ki)= 81\n",
      "81\n",
      "len(ki)= 81\n",
      "81\n",
      "len(ki)= 81\n",
      "81\n"
     ]
    },
    {
     "data": {
      "image/png": "[encoded data removed]",
      "text/plain": [
       "<Figure size 432x288 with 1 Axes>"
      ]
     },
     "metadata": {
      "needs_background": "light"
     },
     "output_type": "display_data"
    },
    {
     "data": {
      "image/png": "[encoded data removed]",
      "text/plain": [
       "<Figure size 432x288 with 1 Axes>"
      ]
     },
     "metadata": {
      "needs_background": "light"
     },
     "output_type": "display_data"
    },
    {
     "name": "stdout",
     "output_type": "stream",
     "text": [
      "len(ki)= 81\n",
      "81\n",
      "len(ki)= 81\n",
      "81\n",
      "len(ki)= 81\n",
      "81\n",
      "len(ki)= 81\n",
      "81\n",
      "len(ki)= 81\n",
      "81\n",
      "len(ki)= 81\n",
      "81\n"
     ]
    },
    {
     "data": {
      "image/png": "[encoded data removed]",
      "text/plain": [
       "<Figure size 432x288 with 1 Axes>"
      ]
     },
     "metadata": {
      "needs_background": "light"
     },
     "output_type": "display_data"
    },
    {
     "data": {
      "image/png": "[encoded data removed]",
      "text/plain": [
       "<Figure size 432x288 with 1 Axes>"
      ]
     },
     "metadata": {
      "needs_background": "light"
     },
     "output_type": "display_data"
    }
   ],
   "source": [
    "PATH = \"D:\\\\Brain_PR\\\\tmp\\\\CSVD 10409805 PVWM-20190718T141019Z-001\\\\CSVD 10409805 PVWM\\\\S11010\\\\\"\n",
    "# dir_name = 'control '\n",
    "# pid = '00503821\\\\'\n",
    "# PATH = \"D:\\\\Brain_PR\\\\\"+dir_name+pid+\"\\\\\"\n",
    "if os.path.exists(PATH+'AIF_full_seq\\\\') == False:\n",
    "    os.makedirs(PATH+'AIF_full_seq\\\\')\n",
    "result_mean = []\n",
    "for ROI_label in range(len(ROI_label_list)):\n",
    "    \n",
    "    ROI_center_list = pertubation(ROI_label_list[ROI_label][2::])\n",
    "    cut = [[70,85,90],\n",
    "            [75,80,90],\n",
    "            [74,87,95],\n",
    "            ]\n",
    "    substract_arr = []\n",
    "    positive = []\n",
    "    negetive = []\n",
    "    \n",
    "    Start_ROI = ROI_label_list[ROI_label][0].astype(float).astype(int)\n",
    "    Start_AIF = AIF_label_list[0][0].astype(float).astype(int)\n",
    "    \n",
    "    label = ROI_label_list[ROI_label][1]\n",
    "\n",
    "    for R_cen in ROI_center_list:\n",
    "        for cut_row in cut:\n",
    "#             print(R_cen)\n",
    "            result = main_AIF(PATH, Start_ROI, Start_AIF, R_cen, AIF_center_list, 5, 3,cut_row[0], cut_row[1], cut_row[2],200)\n",
    "            \n",
    "            substract_arr.append(result[0])\n",
    "            positive.append(result[2])\n",
    "            negetive.append(result[3])\n",
    "            \n",
    "    bins = result[1][0:-1]\n",
    "    # bins = np.linspace(0,np.max(np.mean(substract_arr, axis=0)),200)\n",
    "    # bins = main(PATH, 1409, 769, [57,61],[55,63], 8, 8, 70,85,90,200)[1][0:-1]\n",
    "    plt.clf()\n",
    "    plt.bar(bins,np.mean(substract_arr, axis=0),width = 0.002,color = 'grey')\n",
    "\n",
    "    plt.xlim(-max(bins), max(bins))\n",
    "    plt.ylim(0, 0.08)\n",
    "    plt.suptitle('Total amount of '+label+' = '+str(np.sum(bins*np.mean(substract_arr, axis=0))))\n",
    "    plt.xlabel('Ki (1/min)')\n",
    "    plt.ylabel('fraction of voxels')\n",
    "    plt.savefig(PATH+'AIF_full_seq\\\\' +label+' after subtraction.png')\n",
    "    plt.show()\n",
    "    plt.clf()\n",
    "    plt.bar(-1*bins,np.mean(negetive, axis=0),width = 0.002,color = 'r')\n",
    "    plt.bar(bins,np.mean(positive, axis=0),width = 0.002,color = 'b')\n",
    "    plt.xlim(-max(bins), max(bins))\n",
    "    plt.ylim(0, 0.08)\n",
    "    plt.suptitle('Total amount of '+label+' = '+str(np.sum(bins*np.mean(substract_arr, axis=0))))\n",
    "    plt.xlabel('Ki (1/min)')\n",
    "    plt.ylabel('fraction of voxels')\n",
    "    plt.savefig(PATH+'AIF_full_seq\\\\' +label+' before subtraction.png')\n",
    "    plt.show()\n",
    "    result_mean.append([label, np.sum(bins*np.mean(substract_arr, axis=0))])"
   ]
  },
  {
   "cell_type": "code",
   "execution_count": 205,
   "metadata": {},
   "outputs": [],
   "source": [
    "df = pd.DataFrame(result_mean)\n",
    "df.columns = ['location', 'mean of Ki']\n",
    "df = df.set_index(['location'])\n",
    "df.to_csv(PATH+'AIF_full_seq\\\\' +'result of AIF full sequence.csv')"
   ]
  },
  {
   "cell_type": "code",
   "execution_count": null,
   "metadata": {},
   "outputs": [],
   "source": []
  }
 ],
 "metadata": {
  "kernelspec": {
   "display_name": "Python 3",
   "language": "python",
   "name": "python3"
  },
  "language_info": {
   "codemirror_mode": {
    "name": "ipython",
    "version": 3
   },
   "file_extension": ".py",
   "mimetype": "text/x-python",
   "name": "python",
   "nbconvert_exporter": "python",
   "pygments_lexer": "ipython3",
   "version": "3.7.3"
  }
 },
 "nbformat": 4,
 "nbformat_minor": 2
}
