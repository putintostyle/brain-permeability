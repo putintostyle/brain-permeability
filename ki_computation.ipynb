{
 "cells": [
  {
   "cell_type": "code",
   "execution_count": 1,
   "metadata": {},
   "outputs": [],
   "source": [
    "import numpy as np\n",
    "import pydicom\n",
    "import matplotlib.pyplot as plt\n",
    "from sklearn import linear_model\n",
    "from matplotlib.ticker import PercentFormatter\n",
    "from matplotlib import colors\n",
    "import matplotlib\n",
    "from scipy.signal import find_peaks\n",
    "import os"
   ]
  },
  {
   "cell_type": "code",
   "execution_count": 2,
   "metadata": {},
   "outputs": [],
   "source": [
    "global PATH  "
   ]
  },
  {
   "cell_type": "code",
   "execution_count": 3,
   "metadata": {},
   "outputs": [],
   "source": [
    "def refer_to_fat(input_img, cut_1, cut_2, cut_3):\n",
    "    peaks1, _ = find_peaks(input_img[cut_1], height=0)\n",
    "    peaks2, _ = find_peaks(input_img[cut_2], height=0)\n",
    "    peaks3, _ = find_peaks(input_img[cut_3], height=0)\n",
    "    fat_array = [peaks1[0],peaks1[-1], peaks2[0],peaks2[-1],peaks3[0],peaks3[-1]] #store all the peaks\n",
    "    fat_array = [i for i in fat_array if i!=0]\n",
    "    fat_array.remove(max(fat_array))\n",
    "    fat_array.remove(min(fat_array))\n",
    "\n",
    "    input_img = input_img/np.mean(fat_array)\n",
    "#     print(np.mean(fat_array))\n",
    "    return np.array(input_img)"
   ]
  },
  {
   "cell_type": "code",
   "execution_count": 4,
   "metadata": {},
   "outputs": [],
   "source": [
    "def store_region(img_ROI, img_VIF, ROI_center, VIF_center, ROI_radius, VIF_radius):\n",
    "    ROI = []\n",
    "    VIF = []\n",
    "    for i in range(0,144):\n",
    "        for j in range(0,144):\n",
    "            if (i-ROI_center[0])**2+(j-ROI_center[1])**2<=ROI_radius**2:\n",
    "                if img_ROI[i][j] == 0:\n",
    "                    tmp = img_ROI[i-3:i+2,j-3:j+3]\n",
    "                    ROI.append(np.mean(tmp[tmp!=0])+1e-10)\n",
    "                else:\n",
    "                    ROI.append(img_ROI[i][j])\n",
    "            if (i-VIF_center[0])**2+(j-VIF_center[1])**2<=VIF_radius**2:\n",
    "                if img_VIF[i][j] == 0:\n",
    "                    tmp = img_VIF[i-3:i+2,j-3:j+3]\n",
    "                    VIF.append(np.mean(tmp[tmp!=0])+1e-10)\n",
    "                else: \n",
    "                    VIF.append(img_VIF[i][j])\n",
    "                \n",
    "    return np.array(ROI), np.array(VIF)"
   ]
  },
  {
   "cell_type": "code",
   "execution_count": 5,
   "metadata": {},
   "outputs": [],
   "source": [
    "def concerntration_in_tissue(start_cut, end_cut, center, radius,cut_1,cut_2,cut_3,ROI):\n",
    "#     print('===ROI===')\n",
    "#     print(ROI)# 1409, 1473\n",
    "    c_t = []\n",
    "    for file_name in range(start_cut, end_cut):\n",
    "        file = pydicom.read_file(PATH+str(file_name))\n",
    "        img = file.pixel_array\n",
    "        img = refer_to_fat(img,cut_1,cut_2,cut_3)\n",
    "        ROI_t = []\n",
    "        \n",
    "        for i in range(0,144):\n",
    "            for j in range(0,144):\n",
    "                if (i-center[0])**2+(j-center[1])**2<=radius**2:\n",
    "                    if img[i][j] == 0:\n",
    "                        tmp = img[i-3:i+2,j-3:j+3]\n",
    "                        ROI_t.append(np.mean(tmp[tmp!=0])+1e-10)\n",
    "                    else:\n",
    "                        ROI_t.append(img[i][j])\n",
    "        ROI_t = np.array(ROI_t)\n",
    "#         print('===ROIt===')\n",
    "#         print(str(file_name))\n",
    "#         print(ROI_t)\n",
    "        \n",
    "        c_t_tmp = np.zeros(len(ROI_t))\n",
    "        for i in range(len(c_t_tmp)):\n",
    "            if (ROI_t[i] == 0) & (ROI[i] == 0):\n",
    "                c_t_tmp[i] = 0\n",
    "            else:\n",
    "                c_t_tmp[i] = -np.log(ROI_t[i]/ROI[i])\n",
    "    \n",
    "        c_t.append(c_t_tmp)\n",
    "    return np.array(c_t)  "
   ]
  },
  {
   "cell_type": "code",
   "execution_count": 6,
   "metadata": {},
   "outputs": [],
   "source": [
    "def concerntration_in_plassma(start_cut, end_cut, center, radius, cut_1,cut_2,cut_3,VIF, ROI_size): # 769, 833\n",
    "    c_p = []\n",
    "    for file_name in range(start_cut,end_cut):\n",
    "        file = pydicom.read_file(PATH+str(file_name))\n",
    "        img = file.pixel_array\n",
    "        img = refer_to_fat(img,cut_1,cut_2,cut_3)\n",
    "#         print('DONE_concerntration_in_plassma')\n",
    "       \n",
    "        VIF_t = []\n",
    "        for i in range(0,144):\n",
    "            for j in range(0,144):\n",
    "                if (i-center[0])**2+(j-center[1])**2<=radius**2:\n",
    "                    if img[i][j] == 0:\n",
    "                        tmp = img[i-3:i+2,j-3:j+3]\n",
    "                        VIF_t.append(np.mean(tmp[tmp!=0])+1e-10)\n",
    "                    else:\n",
    "                        VIF_t.append(img[i][j])\n",
    "        VIF_t = np.array(VIF_t)\n",
    "    #     print(VIF_t)\n",
    "        c_p_tmp = np.zeros(len(VIF_t))\n",
    "        for i in range(len(c_p_tmp)):\n",
    "            if (VIF_t[i] == 0) & (VIF[i] == 0):\n",
    "                c_p_tmp[i] = 0\n",
    "            else:\n",
    "                c_p_tmp[i] = -np.log(VIF_t[i]/VIF[i])\n",
    "    #     c_p_tmp = -np.log(VIF_t/VIF)\n",
    "\n",
    "        c_p.append([np.mean(c_p_tmp) for i in range(ROI_size)])\n",
    "    return np.array(c_p)"
   ]
  },
  {
   "cell_type": "code",
   "execution_count": 7,
   "metadata": {},
   "outputs": [],
   "source": [
    "def compute_K_i(ROI, c_p, abbandon_list, y):\n",
    "    Ki = []\n",
    "    for i in range(len(ROI)):\n",
    "        c_p_tmp = c_p[:,i]\n",
    "        per_time = 0\n",
    "        y_t = []\n",
    "        x_t = []\n",
    "        for time in range(len(c_p_tmp)):\n",
    "            if time not in abbandon_list: \n",
    "                if time <= 16: \n",
    "                    per_time += c_p_tmp[time]*(4/60)\n",
    "                    y_t.append(y[:,i][time])\n",
    "                    x_t.append(per_time/(c_p_tmp[time]+1e-10))\n",
    "                elif (time>16)&(time<=35):\n",
    "                    per_time += c_p_tmp[time]*(6/60)\n",
    "                    y_t.append(y[:,i][time])\n",
    "                    x_t.append(per_time/(c_p_tmp[time]+1e-10))\n",
    "                elif (time>35)&(time<=41):\n",
    "                    per_time += c_p_tmp[time]*(8/60)\n",
    "                    y_t.append(y[:,i][time])\n",
    "                    x_t.append(per_time/(c_p_tmp[time]+1e-10))\n",
    "                elif (time>41):\n",
    "                    per_time += c_p_tmp[time]\n",
    "                    y_t.append(y[:,i][time])\n",
    "                    x_t.append(per_time/(c_p_tmp[time]+1e-10))\n",
    "        x_t = np.array(x_t)\n",
    "        y_t = np.array(y_t)\n",
    "\n",
    "        y_t_mean = np.mean(y_t)\n",
    "        y_t_std = np.std(y_t)\n",
    "\n",
    "        drop_index = []\n",
    "        for index in range(len(y_t)):\n",
    "            if abs(y_t[index]-y_t_mean)>y_t_std:\n",
    "                drop_index.append(index)\n",
    "\n",
    "        y_t = np.delete(y_t, drop_index)\n",
    "        x_t = np.delete(x_t, drop_index)\n",
    "\n",
    "        regr = linear_model.LinearRegression()\n",
    "        regr.fit(x_t.reshape(-1,1), y_t.reshape(-1,1))\n",
    "        Ki.append(round(regr.coef_[0][0],5))\n",
    "    return np.array(Ki)\n"
   ]
  },
  {
   "cell_type": "code",
   "execution_count": 8,
   "metadata": {},
   "outputs": [],
   "source": [
    "def substract_Ki(Ki, bin_num):\n",
    "    plt.clf()\n",
    "    plot1 = np.histogram(Ki[Ki>=0], bin_num)\n",
    "    plot2 = np.histogram(-1*Ki[Ki<0], plot1[1])\n",
    "    bar1 = plot1[0]\n",
    "    bar2 = plot2[0]\n",
    "    substr_bar = np.zeros(len(bar1))\n",
    "    for i in range(len(bar1)):\n",
    "        if bar1[i]-bar2[i] < 0:\n",
    "            substr_bar[i] = 0\n",
    "        else:\n",
    "            substr_bar[i] = bar1[i]-bar2[i]\n",
    "    return [substr_bar/len(Ki), plot1[1],bar1/len(Ki),bar2/len(Ki)]\n"
   ]
  },
  {
   "cell_type": "code",
   "execution_count": 9,
   "metadata": {},
   "outputs": [],
   "source": [
    "def main(PATH, start_ROI, start_VIF, center_ROI, center_VIF, radius_ROI, radius_VIF, cut_1, cut_2, cut_3,bins):\n",
    "    init_ROI = pydicom.read_file(PATH+str(start_ROI))\n",
    "    pixel_ROI = init_ROI.pixel_array\n",
    "    \n",
    "    init_VIF = pydicom.read_file(PATH+str(start_VIF))\n",
    "    pixel_VIF = init_VIF.pixel_array\n",
    "    \n",
    "    pixel_VIF = refer_to_fat(pixel_VIF,cut_1, cut_2, cut_3)\n",
    "    pixel_ROI = refer_to_fat(pixel_ROI,cut_1, cut_2, cut_3)\n",
    "    \n",
    "    ROI, VIF = store_region(pixel_ROI, pixel_VIF, center_ROI, center_VIF, radius_ROI, radius_VIF)\n",
    "#     print(ROI)\n",
    "    c_t = concerntration_in_tissue(start_ROI,start_ROI+64,center_ROI,radius_ROI, cut_1, cut_2, cut_3, ROI)\n",
    "#     print(len(c_t))\n",
    "#     print(len(c_t[0]))\n",
    "    ROI_size = len(ROI)\n",
    "    c_p = concerntration_in_plassma(start_VIF,start_VIF+64,center_VIF,radius_VIF, cut_1, cut_2, cut_3, VIF, ROI_size)\n",
    "#     print(len(c_p))\n",
    "#     print(len(c_p[0]))\n",
    "    y = (c_t+1e-10)/(c_p+1e-10)\n",
    "#     print(y)\n",
    "    drop_list = [10,11,13,17,27,34,37,44,46,50,54,56,59]\n",
    "    Ki = compute_K_i(ROI, c_p, drop_list, y)\n",
    "    sub = substract_Ki(Ki,bins)\n",
    "    return [sub[0], sub[1], sub[2], sub[3]]"
   ]
  },
  {
   "cell_type": "code",
   "execution_count": null,
   "metadata": {},
   "outputs": [],
   "source": []
  },
  {
   "cell_type": "code",
   "execution_count": 19,
   "metadata": {},
   "outputs": [
    {
     "data": {
      "text/plain": [
       "<matplotlib.figure.Figure at 0x1f4e0611898>"
      ]
     },
     "metadata": {},
     "output_type": "display_data"
    }
   ],
   "source": [
    "PATH = \"D:\\\\Brain_PR\\\\00936343Nov\\\\\"\n",
    "ROI_center_list = [[57,61],[58,61]]\n",
    "VIF_center_list = [[55,63],[54,63]]\n",
    "cut = [[70,85,90],\n",
    "        [75,80,90],\n",
    "        [74,87,95],\n",
    "        ]\n",
    "substract_arr = []\n",
    "positive = []\n",
    "negetive = []\n",
    "for R_cen in ROI_center_list:\n",
    "    for V_cen in VIF_center_list:\n",
    "        for cut_row in cut:\n",
    "            result = main(PATH, 1409, 769, R_cen,V_cen, 8, 8,cut_row[0], cut_row[1], cut_row[2],200)\n",
    "            substract_arr.append(result[0])\n",
    "            positive.append(result[2])\n",
    "            negetive.append(result[3])\n"
   ]
  },
  {
   "cell_type": "code",
   "execution_count": 15,
   "metadata": {},
   "outputs": [
    {
     "data": {
      "text/plain": [
       "array([0.00465313, 0.00296108, 0.00338409, 0.00169205, 0.00296108,\n",
       "       0.00549915, 0.00465313, 0.00465313, 0.00676819, 0.00211506,\n",
       "       0.00338409, 0.00380711, 0.00126904, 0.00169205, 0.00253807,\n",
       "       0.00549915, 0.00549915, 0.00253807, 0.00592217, 0.00211506,\n",
       "       0.00338409, 0.00423012, 0.00465313, 0.00380711, 0.00380711,\n",
       "       0.00253807, 0.00380711, 0.00296108, 0.00380711, 0.0071912 ,\n",
       "       0.00549915, 0.00423012, 0.00465313, 0.00507614, 0.00211506,\n",
       "       0.00338409, 0.00296108, 0.00507614, 0.00423012, 0.00296108,\n",
       "       0.00423012, 0.00423012, 0.00169205, 0.00465313, 0.00169205,\n",
       "       0.00338409, 0.00296108, 0.00211506, 0.00253807, 0.00253807,\n",
       "       0.00253807, 0.00296108, 0.00211506, 0.00338409, 0.00465313,\n",
       "       0.00253807, 0.00380711, 0.00253807, 0.00211506, 0.00296108,\n",
       "       0.00253807, 0.00211506, 0.00296108, 0.00338409, 0.00169205,\n",
       "       0.00253807, 0.00126904, 0.00211506, 0.00211506, 0.00380711,\n",
       "       0.00169205, 0.00126904, 0.00126904, 0.00211506, 0.00211506,\n",
       "       0.00338409, 0.00084602, 0.00042301, 0.00211506, 0.00169205,\n",
       "       0.00253807, 0.00211506, 0.00253807, 0.00084602, 0.00042301,\n",
       "       0.00169205, 0.00084602, 0.00042301, 0.00126904, 0.00169205,\n",
       "       0.00126904, 0.00042301, 0.00042301, 0.00169205, 0.00042301,\n",
       "       0.        , 0.00126904, 0.00042301, 0.00084602, 0.        ,\n",
       "       0.00211506, 0.00296108, 0.00042301, 0.        , 0.00211506,\n",
       "       0.00084602, 0.00042301, 0.        , 0.        , 0.00042301,\n",
       "       0.00042301, 0.00042301, 0.00084602, 0.00042301, 0.        ,\n",
       "       0.00042301, 0.        , 0.00042301, 0.00042301, 0.00042301,\n",
       "       0.00126904, 0.00169205, 0.        , 0.        , 0.00042301,\n",
       "       0.        , 0.        , 0.        , 0.        , 0.00042301,\n",
       "       0.00169205, 0.        , 0.00042301, 0.00042301, 0.        ,\n",
       "       0.        , 0.00084602, 0.00042301, 0.        , 0.        ,\n",
       "       0.        , 0.00042301, 0.        , 0.        , 0.        ,\n",
       "       0.00042301, 0.        , 0.        , 0.        , 0.        ,\n",
       "       0.        , 0.00042301, 0.        , 0.        , 0.00042301,\n",
       "       0.        , 0.        , 0.00042301, 0.        , 0.00042301,\n",
       "       0.00042301, 0.00042301, 0.        , 0.00042301, 0.        ,\n",
       "       0.        , 0.        , 0.        , 0.        , 0.00042301,\n",
       "       0.        , 0.        , 0.00084602, 0.00042301, 0.        ,\n",
       "       0.        , 0.        , 0.        , 0.        , 0.        ,\n",
       "       0.        , 0.        , 0.        , 0.        , 0.        ,\n",
       "       0.        , 0.        , 0.        , 0.        , 0.        ,\n",
       "       0.        , 0.00042301, 0.        , 0.        , 0.        ,\n",
       "       0.        , 0.        , 0.        , 0.        , 0.00549915])"
      ]
     },
     "execution_count": 15,
     "metadata": {},
     "output_type": "execute_result"
    }
   ],
   "source": []
  },
  {
   "cell_type": "code",
   "execution_count": 20,
   "metadata": {},
   "outputs": [
    {
     "name": "stdout",
     "output_type": "stream",
     "text": [
      "200\n"
     ]
    },
    {
     "data": {
      "text/plain": [
       "Text(0,0.5,'fraction of voxels')"
      ]
     },
     "execution_count": 20,
     "metadata": {},
     "output_type": "execute_result"
    },
    {
     "data": {
      "image/png": "[encoded data removed]",
      "text/plain": [
       "<matplotlib.figure.Figure at 0x1f4e0646ef0>"
      ]
     },
     "metadata": {},
     "output_type": "display_data"
    }
   ],
   "source": [
    "bins = main(PATH, 961, 897,[57,61],[55,63], 8,8, 70,85,90,200)[1][0:-1]\n",
    "print(len(bins))\n",
    "# bins = main(PATH, 1409, 769, [57,61],[55,63], 8, 8, 70,85,90,200)[1][0:-1]\n",
    "plt.clf()\n",
    "plt.bar(bins,np.mean(substract_arr, axis=0),width = 0.002,color = 'grey')\n",
    "\n",
    "plt.xlim(-0.1, 0.1)\n",
    "plt.ylim(0, 0.025)\n",
    "plt.suptitle('Total amount = '+ str(np.sum(np.mean(substract_arr, axis=0))))\n",
    "plt.xlabel('Ki (1/min)')\n",
    "plt.ylabel('fraction of voxels')\n",
    "# plt.savefig('00936343Nov after subtraction.png')\n",
    "\n",
    "plt.clf()\n",
    "plt.bar(-1*bins,np.mean(negetive, axis=0),width = 0.002,color = 'r')\n",
    "plt.bar(bins,np.mean(positive, axis=0),width = 0.002,color = 'b')\n",
    "plt.xlim(-0.5, 0.5)\n",
    "#             plt.ylim(0, 0.5)\n",
    "plt.suptitle('Total amount = '+str(np.sum(np.mean(substract_arr, axis=0))))\n",
    "plt.xlabel('Ki (1/min)')\n",
    "plt.ylabel('fraction of voxels')\n",
    "# plt.savefig('00936343Nov before subtraction.png')"
   ]
  },
  {
   "cell_type": "code",
   "execution_count": 21,
   "metadata": {},
   "outputs": [
    {
     "name": "stdout",
     "output_type": "stream",
     "text": [
      "200\n"
     ]
    },
    {
     "data": {
      "text/plain": [
       "<matplotlib.figure.Figure at 0x1f4e00dcda0>"
      ]
     },
     "metadata": {},
     "output_type": "display_data"
    }
   ],
   "source": [
    "bins = main(PATH, 961, 897, [57,61],[55,63], 8, 8, 70,85,90,200)[1][0:-1]\n",
    "print(len(bins))"
   ]
  },
  {
   "cell_type": "code",
   "execution_count": 22,
   "metadata": {},
   "outputs": [
    {
     "data": {
      "image/png": "[encoded data removed]",
      "text/plain": [
       "<matplotlib.figure.Figure at 0x1f4e08842e8>"
      ]
     },
     "metadata": {},
     "output_type": "display_data"
    }
   ],
   "source": [
    "plt.clf()\n",
    "# plt.bar(-1*bins,np.mean(negetive, axis=0),width = 0.002,color = 'r')\n",
    "plt.bar(bins,np.mean(substract_arr, axis=0),width = 0.002,color = 'b')\n",
    "plt.xlim(-0.1, 0.1)\n",
    "plt.ylim(0, 0.03)\n",
    "plt.suptitle('Total amount = '+str(np.sum(np.mean(substract_arr, axis=0))))\n",
    "plt.xlabel('Ki (1/min)')\n",
    "plt.ylabel('fraction of voxels')\n",
    "plt.show()"
   ]
  },
  {
   "cell_type": "code",
   "execution_count": null,
   "metadata": {},
   "outputs": [],
   "source": [
    "print(len(np.mean(substract_arr, axis=0)))"
   ]
  },
  {
   "cell_type": "code",
   "execution_count": null,
   "metadata": {
    "scrolled": true
   },
   "outputs": [],
   "source": [
    "# plt.clf()\n",
    "# plt.bar(bins,np.mean(substract_arr, axis=0),width = 0.002,color = 'grey')\n",
    "# # plt.bar(-1*bins,np.mean(negetive, axis=0),width = 0.002,color = 'r')\n",
    "# # plt.bar(bins,np.mean(positive, axis=0),width = 0.002,color = 'b')\n",
    "# # plt.xticks(new_ticks)\n",
    "# # plt.hist(Ki, 800,rwidth=0.6)\n",
    "# plt.xlim(-0.3, 0.3)\n",
    "# # plt.suptitle('negetive')\n",
    "# plt.xlabel('Ki (1/min)')\n",
    "# plt.ylabel('fraction of voxels')\n",
    "# # plt.show()\n",
    "# plt.savefig('00936343June after subtraction.png')"
   ]
  },
  {
   "cell_type": "code",
   "execution_count": null,
   "metadata": {},
   "outputs": [],
   "source": [
    "a = np.array([[1,2,3,4],[5,6,7,8],[9,10,11,12],[13,14,15,16]])\n",
    "a"
   ]
  },
  {
   "cell_type": "code",
   "execution_count": null,
   "metadata": {},
   "outputs": [],
   "source": [
    "a[1:3,0:2]"
   ]
  },
  {
   "cell_type": "code",
   "execution_count": null,
   "metadata": {},
   "outputs": [],
   "source": [
    "np.log(10)"
   ]
  },
  {
   "cell_type": "code",
   "execution_count": null,
   "metadata": {},
   "outputs": [],
   "source": []
  }
 ],
 "metadata": {
  "kernelspec": {
   "display_name": "Python 3",
   "language": "python",
   "name": "python3"
  },
  "language_info": {
   "codemirror_mode": {
    "name": "ipython",
    "version": 3
   },
   "file_extension": ".py",
   "mimetype": "text/x-python",
   "name": "python",
   "nbconvert_exporter": "python",
   "pygments_lexer": "ipython3",
   "version": "3.6.4"
  }
 },
 "nbformat": 4,
 "nbformat_minor": 2
}
